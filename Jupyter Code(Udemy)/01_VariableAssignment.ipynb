{
 "cells": [
  {
   "cell_type": "code",
   "execution_count": 1,
   "id": "966ab2b0",
   "metadata": {},
   "outputs": [],
   "source": [
    "#Reassignment of variables in python.\n",
    "a=34"
   ]
  },
  {
   "cell_type": "code",
   "execution_count": 2,
   "id": "9a823e5e",
   "metadata": {},
   "outputs": [
    {
     "name": "stdout",
     "output_type": "stream",
     "text": [
      "34\n"
     ]
    }
   ],
   "source": [
    "print(a)"
   ]
  },
  {
   "cell_type": "code",
   "execution_count": 3,
   "id": "d09f7525",
   "metadata": {},
   "outputs": [],
   "source": [
    "a=56"
   ]
  },
  {
   "cell_type": "code",
   "execution_count": 4,
   "id": "0ac9f9aa",
   "metadata": {},
   "outputs": [
    {
     "name": "stdout",
     "output_type": "stream",
     "text": [
      "56\n"
     ]
    }
   ],
   "source": [
    "print(a)"
   ]
  },
  {
   "cell_type": "code",
   "execution_count": 5,
   "id": "03a19f6a",
   "metadata": {},
   "outputs": [],
   "source": [
    "#Here, reassignment is possible in python.\n",
    "a=a+24"
   ]
  },
  {
   "cell_type": "code",
   "execution_count": 6,
   "id": "a7f07291",
   "metadata": {},
   "outputs": [
    {
     "name": "stdout",
     "output_type": "stream",
     "text": [
      "80\n"
     ]
    }
   ],
   "source": [
    "print(a)"
   ]
  },
  {
   "cell_type": "code",
   "execution_count": 7,
   "id": "1bc67db4",
   "metadata": {},
   "outputs": [],
   "source": [
    "#Now, above code can be done in a shorter way.\n",
    "a+=50 #Here adding a with the number 50 only."
   ]
  },
  {
   "cell_type": "code",
   "execution_count": 8,
   "id": "11716405",
   "metadata": {},
   "outputs": [
    {
     "name": "stdout",
     "output_type": "stream",
     "text": [
      "130\n"
     ]
    }
   ],
   "source": [
    "print(a)"
   ]
  },
  {
   "cell_type": "code",
   "execution_count": 1,
   "id": "5db3b174",
   "metadata": {},
   "outputs": [],
   "source": [
    "#Above can be done with other Mathematical Operations as +=(Addition),-=(Subtration),*=(Multiplication),/=(Division)."
   ]
  },
  {
   "cell_type": "code",
   "execution_count": null,
   "id": "a72e6e0b",
   "metadata": {},
   "outputs": [],
   "source": [
    "#Determining the Type of the variable as Python suppports Dynamic Typing."
   ]
  }
 ],
 "metadata": {
  "kernelspec": {
   "display_name": "Python 3 (ipykernel)",
   "language": "python",
   "name": "python3"
  },
  "language_info": {
   "codemirror_mode": {
    "name": "ipython",
    "version": 3
   },
   "file_extension": ".py",
   "mimetype": "text/x-python",
   "name": "python",
   "nbconvert_exporter": "python",
   "pygments_lexer": "ipython3",
   "version": "3.9.13"
  }
 },
 "nbformat": 4,
 "nbformat_minor": 5
}
