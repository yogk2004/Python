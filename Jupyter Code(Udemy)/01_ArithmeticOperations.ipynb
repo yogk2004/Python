{
 "cells": [
  {
   "cell_type": "code",
   "execution_count": 1,
   "id": "264e8f3b",
   "metadata": {},
   "outputs": [
    {
     "data": {
      "text/plain": [
       "66"
      ]
     },
     "execution_count": 1,
     "metadata": {},
     "output_type": "execute_result"
    }
   ],
   "source": [
    "#Addition\n",
    "21+45"
   ]
  },
  {
   "cell_type": "code",
   "execution_count": 2,
   "id": "72c78e8c",
   "metadata": {},
   "outputs": [
    {
     "data": {
      "text/plain": [
       "44"
      ]
     },
     "execution_count": 2,
     "metadata": {},
     "output_type": "execute_result"
    }
   ],
   "source": [
    "#Subtraction\n",
    "68-24"
   ]
  },
  {
   "cell_type": "code",
   "execution_count": 3,
   "id": "187ca932",
   "metadata": {},
   "outputs": [
    {
     "data": {
      "text/plain": [
       "1125"
      ]
     },
     "execution_count": 3,
     "metadata": {},
     "output_type": "execute_result"
    }
   ],
   "source": [
    "#Multiplication\n",
    "25*45"
   ]
  },
  {
   "cell_type": "code",
   "execution_count": 8,
   "id": "97e56ac2",
   "metadata": {},
   "outputs": [
    {
     "data": {
      "text/plain": [
       "3.45"
      ]
     },
     "execution_count": 8,
     "metadata": {},
     "output_type": "execute_result"
    }
   ],
   "source": [
    "#Division\n",
    "345/100"
   ]
  },
  {
   "cell_type": "code",
   "execution_count": 10,
   "id": "e37a3eae",
   "metadata": {},
   "outputs": [
    {
     "data": {
      "text/plain": [
       "3"
      ]
     },
     "execution_count": 10,
     "metadata": {},
     "output_type": "execute_result"
    }
   ],
   "source": [
    "#Floor Division\n",
    "345//100"
   ]
  },
  {
   "cell_type": "code",
   "execution_count": 11,
   "id": "5d1201dd",
   "metadata": {},
   "outputs": [],
   "source": [
    "#Difference between Floor Division and Division is that Floor Division does not include the after decimal digits."
   ]
  },
  {
   "cell_type": "code",
   "execution_count": 12,
   "id": "0a8796bf",
   "metadata": {},
   "outputs": [
    {
     "data": {
      "text/plain": [
       "4"
      ]
     },
     "execution_count": 12,
     "metadata": {},
     "output_type": "execute_result"
    }
   ],
   "source": [
    "#Modulo\n",
    "34%5"
   ]
  },
  {
   "cell_type": "code",
   "execution_count": 13,
   "id": "dd8cef52",
   "metadata": {},
   "outputs": [
    {
     "data": {
      "text/plain": [
       "529"
      ]
     },
     "execution_count": 13,
     "metadata": {},
     "output_type": "execute_result"
    }
   ],
   "source": [
    "#Power\n",
    "23**2"
   ]
  },
  {
   "cell_type": "code",
   "execution_count": 15,
   "id": "e0495f20",
   "metadata": {},
   "outputs": [
    {
     "data": {
      "text/plain": [
       "6.0"
      ]
     },
     "execution_count": 15,
     "metadata": {},
     "output_type": "execute_result"
    }
   ],
   "source": [
    "#Can also find roots by this method.\n",
    "36**(1/2)"
   ]
  },
  {
   "cell_type": "code",
   "execution_count": 19,
   "id": "f629a3f8",
   "metadata": {},
   "outputs": [
    {
     "data": {
      "text/plain": [
       "9.0"
      ]
     },
     "execution_count": 19,
     "metadata": {},
     "output_type": "execute_result"
    }
   ],
   "source": [
    "#There is order of operations in python.\n",
    "2*3+7**2*(21/3)%10"
   ]
  },
  {
   "cell_type": "code",
   "execution_count": null,
   "id": "d643d855",
   "metadata": {},
   "outputs": [],
   "source": []
  }
 ],
 "metadata": {
  "kernelspec": {
   "display_name": "Python 3 (ipykernel)",
   "language": "python",
   "name": "python3"
  },
  "language_info": {
   "codemirror_mode": {
    "name": "ipython",
    "version": 3
   },
   "file_extension": ".py",
   "mimetype": "text/x-python",
   "name": "python",
   "nbconvert_exporter": "python",
   "pygments_lexer": "ipython3",
   "version": "3.9.13"
  }
 },
 "nbformat": 4,
 "nbformat_minor": 5
}
