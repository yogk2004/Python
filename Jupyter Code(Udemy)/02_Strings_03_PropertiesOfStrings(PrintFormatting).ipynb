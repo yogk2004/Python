{
 "cells": [
  {
   "cell_type": "code",
   "execution_count": 1,
   "id": "ae079b7c",
   "metadata": {},
   "outputs": [],
   "source": [
    "#Creating Strigs in python.\n",
    "a=\"Hello Python\""
   ]
  },
  {
   "cell_type": "code",
   "execution_count": 2,
   "id": "32e120dd",
   "metadata": {},
   "outputs": [],
   "source": [
    "#We can take strings both as \"\"(Double Quotes) and ''(Single Quotes)"
   ]
  },
  {
   "cell_type": "code",
   "execution_count": 3,
   "id": "d0bb000d",
   "metadata": {},
   "outputs": [
    {
     "ename": "SyntaxError",
     "evalue": "invalid syntax (1701176217.py, line 2)",
     "output_type": "error",
     "traceback": [
      "\u001b[1;36m  File \u001b[1;32m\"C:\\Users\\yogk2\\AppData\\Local\\Temp\\ipykernel_9824\\1701176217.py\"\u001b[1;36m, line \u001b[1;32m2\u001b[0m\n\u001b[1;33m    'Hello, I'm Yogesh Kumar'\u001b[0m\n\u001b[1;37m              ^\u001b[0m\n\u001b[1;31mSyntaxError\u001b[0m\u001b[1;31m:\u001b[0m invalid syntax\n"
     ]
    }
   ],
   "source": [
    "#Disadvantage of using Single Quotes\n",
    "'Hello, I'm Yogesh Kumar'"
   ]
  },
  {
   "cell_type": "code",
   "execution_count": 4,
   "id": "eb42d088",
   "metadata": {},
   "outputs": [
    {
     "data": {
      "text/plain": [
       "\"Hello, I'm Yogesh Kumar\""
      ]
     },
     "execution_count": 4,
     "metadata": {},
     "output_type": "execute_result"
    }
   ],
   "source": [
    "#Hence, Double Quotes is more preferred than as usual.\n",
    "\"Hello, I'm Yogesh Kumar\""
   ]
  },
  {
   "cell_type": "code",
   "execution_count": 5,
   "id": "8a10075a",
   "metadata": {},
   "outputs": [],
   "source": [
    "#PRINTING STRINGS"
   ]
  },
  {
   "cell_type": "code",
   "execution_count": 6,
   "id": "41370862",
   "metadata": {},
   "outputs": [
    {
     "data": {
      "text/plain": [
       "'Hello'"
      ]
     },
     "execution_count": 6,
     "metadata": {},
     "output_type": "execute_result"
    }
   ],
   "source": [
    "#Simply Declaring String(not storing in any variable)\n",
    "\"Hello\""
   ]
  },
  {
   "cell_type": "code",
   "execution_count": 7,
   "id": "41147eb1",
   "metadata": {},
   "outputs": [
    {
     "data": {
      "text/plain": [
       "'Hello Python 2'"
      ]
     },
     "execution_count": 7,
     "metadata": {},
     "output_type": "execute_result"
    }
   ],
   "source": [
    "#Note: Multiple String annot be printed at a time.\n",
    "\"Hello Python 1\"\n",
    "\"Hello Python 2\""
   ]
  },
  {
   "cell_type": "code",
   "execution_count": 8,
   "id": "3964c34b",
   "metadata": {},
   "outputs": [
    {
     "name": "stdout",
     "output_type": "stream",
     "text": [
      "Hello World 1\n",
      "Hello World 2\n",
      "Use \n",
      " to print a new line\n",
      "\n",
      "\n",
      "See what I mean?\n"
     ]
    }
   ],
   "source": [
    "#Using printing statement to print a string.\n",
    "print('Hello World 1')\n",
    "print('Hello World 2')\n",
    "print('Use \\n to print a new line')  # \"\\n\" separates the string into two half and print other half in next line.\n",
    "print('\\n')\n",
    "print('See what I mean?')"
   ]
  },
  {
   "cell_type": "code",
   "execution_count": 9,
   "id": "d05189c4",
   "metadata": {},
   "outputs": [],
   "source": [
    "#For no Space then do not left any space after \"\\n\"\n",
    "#Multiple String can be printed in this way by writing print."
   ]
  },
  {
   "cell_type": "code",
   "execution_count": 10,
   "id": "780ba3cf",
   "metadata": {},
   "outputs": [],
   "source": [
    "#STRING BASICS"
   ]
  },
  {
   "cell_type": "code",
   "execution_count": 11,
   "id": "814bd3f3",
   "metadata": {},
   "outputs": [
    {
     "data": {
      "text/plain": [
       "11"
      ]
     },
     "execution_count": 11,
     "metadata": {},
     "output_type": "execute_result"
    }
   ],
   "source": [
    "#len() function\n",
    "len(\"Hello World\") #Spaces are also counted in these."
   ]
  },
  {
   "cell_type": "code",
   "execution_count": 12,
   "id": "c9db5406",
   "metadata": {},
   "outputs": [
    {
     "data": {
      "text/plain": [
       "'o'"
      ]
     },
     "execution_count": 12,
     "metadata": {},
     "output_type": "execute_result"
    }
   ],
   "source": [
    "#String Indexing-(Use to take a Single Element from the string.)\n",
    "s=\"helllo World\"\n",
    "#Show fifth element in the string above.\n",
    "s[5]"
   ]
  },
  {
   "cell_type": "code",
   "execution_count": 13,
   "id": "d64c827e",
   "metadata": {},
   "outputs": [],
   "source": [
    "#The String remains the same all the time."
   ]
  },
  {
   "cell_type": "code",
   "execution_count": 14,
   "id": "b25ff570",
   "metadata": {},
   "outputs": [],
   "source": [
    "#String Slicing\n",
    "#Syntax: String_var/String[Start:Stop:Step]"
   ]
  },
  {
   "cell_type": "code",
   "execution_count": 15,
   "id": "b6bf00cb",
   "metadata": {},
   "outputs": [
    {
     "data": {
      "text/plain": [
       "'helllo World'"
      ]
     },
     "execution_count": 15,
     "metadata": {},
     "output_type": "execute_result"
    }
   ],
   "source": [
    "#Grabing the whole String.\n",
    "s[::]"
   ]
  },
  {
   "cell_type": "code",
   "execution_count": 16,
   "id": "4e84fe74",
   "metadata": {},
   "outputs": [
    {
     "data": {
      "text/plain": [
       "'elllo World'"
      ]
     },
     "execution_count": 16,
     "metadata": {},
     "output_type": "execute_result"
    }
   ],
   "source": [
    "#Grabing the string except the first element.\n",
    "s[1:]  #Not even need for the extra \":\" for step(unless it is not 1)."
   ]
  },
  {
   "cell_type": "code",
   "execution_count": 17,
   "id": "efd1fae0",
   "metadata": {},
   "outputs": [
    {
     "data": {
      "text/plain": [
       "'helllo'"
      ]
     },
     "execution_count": 17,
     "metadata": {},
     "output_type": "execute_result"
    }
   ],
   "source": [
    "#Grabing from first element to the 5 element\n",
    "s[:6]"
   ]
  },
  {
   "cell_type": "code",
   "execution_count": 18,
   "id": "32769465",
   "metadata": {},
   "outputs": [
    {
     "data": {
      "text/plain": [
       "'lllo W'"
      ]
     },
     "execution_count": 18,
     "metadata": {},
     "output_type": "execute_result"
    }
   ],
   "source": [
    "#The start numbered element is included but the stop element is not included in the resultant string.\n",
    "s[2:8] #Numbering of the string starts from the \"0\" for the first elemnt in the string."
   ]
  },
  {
   "cell_type": "code",
   "execution_count": 20,
   "id": "e134f0d2",
   "metadata": {},
   "outputs": [
    {
     "data": {
      "text/plain": [
       "'Worl'"
      ]
     },
     "execution_count": 20,
     "metadata": {},
     "output_type": "execute_result"
    }
   ],
   "source": [
    "#Grabing last elements (there the numbering starts from 0 for the first element)\n",
    "#From the last to the second element from the front it is numbered from \"-1\" (for the last one)\n",
    "s[-5:-1]  # '-1' element (here, \"d\") not included."
   ]
  },
  {
   "cell_type": "code",
   "execution_count": 21,
   "id": "8c718da3",
   "metadata": {},
   "outputs": [
    {
     "data": {
      "text/plain": [
       "'helllo Worl'"
      ]
     },
     "execution_count": 21,
     "metadata": {},
     "output_type": "execute_result"
    }
   ],
   "source": [
    "#Grabing everthing but last Letter\n",
    "s[:-1] #also can be written as (\"helllo World\"[:-1])"
   ]
  },
  {
   "cell_type": "code",
   "execution_count": 22,
   "id": "f4cb262b",
   "metadata": {},
   "outputs": [
    {
     "data": {
      "text/plain": [
       "'hll ol'"
      ]
     },
     "execution_count": 22,
     "metadata": {},
     "output_type": "execute_result"
    }
   ],
   "source": [
    "#Grabing everything but with a jump of 2 from the first element in tthe string.\n",
    "s[::2]"
   ]
  },
  {
   "cell_type": "code",
   "execution_count": 23,
   "id": "31e47301",
   "metadata": {},
   "outputs": [
    {
     "data": {
      "text/plain": [
       "'dlroW ollleh'"
      ]
     },
     "execution_count": 23,
     "metadata": {},
     "output_type": "execute_result"
    }
   ],
   "source": [
    "#Trick Question: reversing the string by the help of string slicing method only.\n",
    "s[::-1]"
   ]
  },
  {
   "cell_type": "code",
   "execution_count": 24,
   "id": "cf92a502",
   "metadata": {},
   "outputs": [
    {
     "ename": "TypeError",
     "evalue": "'str' object does not support item assignment",
     "output_type": "error",
     "traceback": [
      "\u001b[1;31m---------------------------------------------------------------------------\u001b[0m",
      "\u001b[1;31mTypeError\u001b[0m                                 Traceback (most recent call last)",
      "\u001b[1;32m~\\AppData\\Local\\Temp\\ipykernel_9824\\3512067461.py\u001b[0m in \u001b[0;36m<module>\u001b[1;34m\u001b[0m\n\u001b[0;32m      1\u001b[0m \u001b[1;31m#String Properties:\u001b[0m\u001b[1;33m\u001b[0m\u001b[1;33m\u001b[0m\u001b[0m\n\u001b[0;32m      2\u001b[0m \u001b[1;31m#(1.)Immutability of Strings: A strings after defining cannot be changed.\u001b[0m\u001b[1;33m\u001b[0m\u001b[1;33m\u001b[0m\u001b[0m\n\u001b[1;32m----> 3\u001b[1;33m \u001b[1;34m\"Yogesh\"\u001b[0m\u001b[1;33m[\u001b[0m\u001b[1;36m1\u001b[0m\u001b[1;33m]\u001b[0m\u001b[1;33m=\u001b[0m\u001b[1;34m\"L\"\u001b[0m\u001b[1;33m\u001b[0m\u001b[1;33m\u001b[0m\u001b[0m\n\u001b[0m",
      "\u001b[1;31mTypeError\u001b[0m: 'str' object does not support item assignment"
     ]
    }
   ],
   "source": [
    "#STRING PROPERTIES:\n",
    "#(1.)Immutability of Strings: A strings after defining cannot be changed.\n",
    "\"Yogesh\"[1]=\"L\""
   ]
  },
  {
   "cell_type": "code",
   "execution_count": 26,
   "id": "5e643a18",
   "metadata": {},
   "outputs": [
    {
     "name": "stdout",
     "output_type": "stream",
     "text": [
      "Logesh\n"
     ]
    }
   ],
   "source": [
    "#hencce to change above string we use another property as:\n",
    "#(2.)Concatenaton:\n",
    "Words_needed=\"Yogesh\"[1:]\n",
    "New_String=\"L\"+Words_needed\n",
    "print(New_String)"
   ]
  },
  {
   "cell_type": "code",
   "execution_count": 27,
   "id": "6748d817",
   "metadata": {},
   "outputs": [
    {
     "data": {
      "text/plain": [
       "'zzzzzzzzzz'"
      ]
     },
     "execution_count": 27,
     "metadata": {},
     "output_type": "execute_result"
    }
   ],
   "source": [
    "#The can be done with multiple Strings.\n",
    "#Using Multiplication to replicate above Strings.\n",
    "letter='z'\n",
    "letter*10"
   ]
  },
  {
   "cell_type": "code",
   "execution_count": 28,
   "id": "f4a94fc6",
   "metadata": {},
   "outputs": [],
   "source": [
    "New_String=\"Hi, I'm learrning python by udemy and it is very interesting\""
   ]
  },
  {
   "cell_type": "code",
   "execution_count": 31,
   "id": "0f8ff8d4",
   "metadata": {},
   "outputs": [
    {
     "data": {
      "text/plain": [
       "\"HI, I'M LEARRNING PYTHON BY UDEMY AND IT IS VERY INTERESTING\""
      ]
     },
     "execution_count": 31,
     "metadata": {},
     "output_type": "execute_result"
    }
   ],
   "source": [
    "# (3.)Making all alphabets capital.\n",
    "New_String.upper()"
   ]
  },
  {
   "cell_type": "code",
   "execution_count": 32,
   "id": "8cfe82a5",
   "metadata": {},
   "outputs": [
    {
     "data": {
      "text/plain": [
       "\"hi, i'm learrning python by udemy and it is very interesting\""
      ]
     },
     "execution_count": 32,
     "metadata": {},
     "output_type": "execute_result"
    }
   ],
   "source": [
    "#(4.)Making all capital letters smaller again.\n",
    "New_String.lower()"
   ]
  },
  {
   "cell_type": "code",
   "execution_count": 35,
   "id": "bcc4565a",
   "metadata": {},
   "outputs": [
    {
     "data": {
      "text/plain": [
       "['Hi,',\n",
       " \"I'm\",\n",
       " 'learrning',\n",
       " 'python',\n",
       " 'by',\n",
       " 'udemy',\n",
       " 'and',\n",
       " 'it',\n",
       " 'is',\n",
       " 'very',\n",
       " 'interesting']"
      ]
     },
     "execution_count": 35,
     "metadata": {},
     "output_type": "execute_result"
    }
   ],
   "source": [
    "#Splitting Strings by the spaces.\n",
    "New_String.split()"
   ]
  },
  {
   "cell_type": "code",
   "execution_count": 37,
   "id": "f68f45d9",
   "metadata": {},
   "outputs": [
    {
     "data": {
      "text/plain": [
       "['H',\n",
       " \", I'm learrn\",\n",
       " 'ng python by udemy and ',\n",
       " 't ',\n",
       " 's very ',\n",
       " 'nterest',\n",
       " 'ng']"
      ]
     },
     "execution_count": 37,
     "metadata": {},
     "output_type": "execute_result"
    }
   ],
   "source": [
    "#Splitting by an alphabet.\n",
    "New_String.split('i')"
   ]
  },
  {
   "cell_type": "code",
   "execution_count": 38,
   "id": "2d4d4d84",
   "metadata": {},
   "outputs": [],
   "source": [
    "#PRINT FORMATTING"
   ]
  },
  {
   "cell_type": "code",
   "execution_count": null,
   "id": "c1f332c4",
   "metadata": {},
   "outputs": [],
   "source": [
    "#Method 1: Formatting with placeholders\n"
   ]
  }
 ],
 "metadata": {
  "kernelspec": {
   "display_name": "Python 3 (ipykernel)",
   "language": "python",
   "name": "python3"
  },
  "language_info": {
   "codemirror_mode": {
    "name": "ipython",
    "version": 3
   },
   "file_extension": ".py",
   "mimetype": "text/x-python",
   "name": "python",
   "nbconvert_exporter": "python",
   "pygments_lexer": "ipython3",
   "version": "3.9.13"
  }
 },
 "nbformat": 4,
 "nbformat_minor": 5
}
