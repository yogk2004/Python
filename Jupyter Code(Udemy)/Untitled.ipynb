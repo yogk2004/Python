{
 "cells": [
  {
   "cell_type": "code",
   "execution_count": 1,
   "id": "df7a75b0",
   "metadata": {},
   "outputs": [
    {
     "data": {
      "text/plain": [
       "4"
      ]
     },
     "execution_count": 1,
     "metadata": {},
     "output_type": "execute_result"
    }
   ],
   "source": [
    "2+2 # run by above button given."
   ]
  },
  {
   "cell_type": "code",
   "execution_count": 2,
   "id": "385b208d",
   "metadata": {},
   "outputs": [
    {
     "data": {
      "text/plain": [
       "15"
      ]
     },
     "execution_count": 2,
     "metadata": {},
     "output_type": "execute_result"
    }
   ],
   "source": [
    "5+10 #shift+enter for new box."
   ]
  },
  {
   "cell_type": "code",
   "execution_count": null,
   "id": "0fd7978b",
   "metadata": {},
   "outputs": [],
   "source": [
    "#To stop python code, we can select and click on shutdown option."
   ]
  }
 ],
 "metadata": {
  "kernelspec": {
   "display_name": "Python 3 (ipykernel)",
   "language": "python",
   "name": "python3"
  },
  "language_info": {
   "codemirror_mode": {
    "name": "ipython",
    "version": 3
   },
   "file_extension": ".py",
   "mimetype": "text/x-python",
   "name": "python",
   "nbconvert_exporter": "python",
   "pygments_lexer": "ipython3",
   "version": "3.9.13"
  }
 },
 "nbformat": 4,
 "nbformat_minor": 5
}
